{
  "cells": [
    {
      "cell_type": "markdown",
      "metadata": {
        "id": "view-in-github",
        "colab_type": "text"
      },
      "source": [
        "<a href=\"https://colab.research.google.com/github/nising99/Learning/blob/main/Operations_Research_I/scipy_optimize_linear_sum_assignment.ipynb\" target=\"_parent\"><img src=\"https://colab.research.google.com/assets/colab-badge.svg\" alt=\"Open In Colab\"/></a>"
      ]
    },
    {
      "cell_type": "code",
      "source": [
        "!pip install scipy"
      ],
      "metadata": {
        "colab": {
          "base_uri": "https://localhost:8080/"
        },
        "id": "KKNpkIU_4-3I",
        "outputId": "e352328c-3965-470e-e0d2-aa882d56ffbe"
      },
      "execution_count": 48,
      "outputs": [
        {
          "output_type": "stream",
          "name": "stdout",
          "text": [
            "Requirement already satisfied: scipy in /usr/local/lib/python3.7/dist-packages (1.4.1)\n",
            "Requirement already satisfied: numpy>=1.13.3 in /usr/local/lib/python3.7/dist-packages (from scipy) (1.19.5)\n"
          ]
        }
      ]
    },
    {
      "cell_type": "code",
      "source": [
        "import numpy as np\n",
        "from scipy.optimize import linear_sum_assignment"
      ],
      "metadata": {
        "id": "rOyXVbe_9jTM"
      },
      "execution_count": 49,
      "outputs": []
    },
    {
      "cell_type": "code",
      "source": [
        "\"\"\"Minimization Problem\"\"\"\n",
        "\n",
        "cost = np.array([[25,34,17,14,29], \n",
        "                 [19,26,24,21,28], \n",
        "                 [37,32,22,30,26], \n",
        "                 [19,17,24,29,16], \n",
        "                 [10,28,27,22,34]])\n",
        "\n",
        "result = linear_sum_assignment(cost)\n",
        "print(np.array(list(zip(*result))))\n",
        "cost[result].sum()\n",
        "\n",
        "#row_ind, col_ind = linear_sum_assignment(cost)\n",
        "#print(list(row_ind))\n",
        "#print(list(col_ind))"
      ],
      "metadata": {
        "colab": {
          "base_uri": "https://localhost:8080/"
        },
        "id": "oiRR4aL86NJu",
        "outputId": "432deaf7-c836-4b3f-9f42-9ccd45ce9504"
      },
      "execution_count": 50,
      "outputs": [
        {
          "output_type": "stream",
          "name": "stdout",
          "text": [
            "[[0 3]\n",
            " [1 1]\n",
            " [2 2]\n",
            " [3 4]\n",
            " [4 0]]\n"
          ]
        },
        {
          "output_type": "execute_result",
          "data": {
            "text/plain": [
              "88"
            ]
          },
          "metadata": {},
          "execution_count": 50
        }
      ]
    },
    {
      "cell_type": "code",
      "source": [
        "\"\"\"Maximization Problem\"\"\"\n",
        "\n",
        "profit = np.array([[6, 12, 20, 12],\n",
        "                   [22, 18, 15, 20],\n",
        "                   [12, 16, 18, 15],\n",
        "                   [16, 8, 12, 20]])\n",
        "\n",
        "result2 = linear_sum_assignment(profit, maximize=True)\n",
        "print(np.array(list(zip(*result2))))\n",
        "profit[result2].sum()"
      ],
      "metadata": {
        "colab": {
          "base_uri": "https://localhost:8080/"
        },
        "id": "9AtlsSW-9Szb",
        "outputId": "290dcef4-97ce-4e20-ba22-bf0a9a2e6710"
      },
      "execution_count": 51,
      "outputs": [
        {
          "output_type": "stream",
          "name": "stdout",
          "text": [
            "[[0 2]\n",
            " [1 0]\n",
            " [2 1]\n",
            " [3 3]]\n"
          ]
        },
        {
          "output_type": "execute_result",
          "data": {
            "text/plain": [
              "78"
            ]
          },
          "metadata": {},
          "execution_count": 51
        }
      ]
    }
  ],
  "metadata": {
    "colab": {
      "collapsed_sections": [],
      "name": "scipy.optimize.linear_sum_assignment.ipynb",
      "provenance": [],
      "authorship_tag": "ABX9TyMlFZb9jTCqPeb/gKQNsOdt",
      "include_colab_link": true
    },
    "kernelspec": {
      "display_name": "Python 3",
      "name": "python3"
    },
    "language_info": {
      "name": "python"
    }
  },
  "nbformat": 4,
  "nbformat_minor": 0
}