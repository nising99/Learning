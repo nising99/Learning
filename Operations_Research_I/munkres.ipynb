{
  "cells": [
    {
      "cell_type": "markdown",
      "metadata": {
        "id": "view-in-github",
        "colab_type": "text"
      },
      "source": [
        "<a href=\"https://colab.research.google.com/github/nising99/Learning/blob/main/Operations_Research_I/munkres.ipynb\" target=\"_parent\"><img src=\"https://colab.research.google.com/assets/colab-badge.svg\" alt=\"Open In Colab\"/></a>"
      ]
    },
    {
      "cell_type": "code",
      "source": [
        "!pip install munkres"
      ],
      "metadata": {
        "colab": {
          "base_uri": "https://localhost:8080/"
        },
        "id": "MkafB-ZWIhdm",
        "outputId": "1ccf500e-6e85-475d-ae40-bf8f5c9a3531"
      },
      "execution_count": 95,
      "outputs": [
        {
          "output_type": "stream",
          "name": "stdout",
          "text": [
            "Requirement already satisfied: munkres in /usr/local/lib/python3.7/dist-packages (1.1.4)\n"
          ]
        }
      ]
    },
    {
      "cell_type": "code",
      "source": [
        "from munkres import Munkres, print_matrix, make_cost_matrix"
      ],
      "metadata": {
        "id": "_6bCNEIHdk0r"
      },
      "execution_count": 96,
      "outputs": []
    },
    {
      "cell_type": "code",
      "source": [
        "\"\"\"Minimization Problem\"\"\"\n",
        "\n",
        "cost = [[25,34,17,14,29],\n",
        "        [19,26,24,21,28],\n",
        "        [37,32,22,30,26],\n",
        "        [19,17,24,29,16],\n",
        "        [10,28,27,22,34]]\n",
        "\n",
        "m = Munkres()\n",
        "indexes = m.compute(cost)\n",
        "#print_matrix(cost, msg='Lowest cost through this matrix:')\n",
        "total = 0\n",
        "\n",
        "for row, column in indexes:\n",
        "    value = cost[row][column]\n",
        "    total += value\n",
        "    print ('(%d, %d) -> %d' % (row, column, value))\n",
        "\n",
        "print ('\\nTotal cost: %d' % total)"
      ],
      "metadata": {
        "colab": {
          "base_uri": "https://localhost:8080/"
        },
        "id": "Dixe3jhfJoBW",
        "outputId": "3e730e57-13fd-454c-8331-9242962fa98b"
      },
      "execution_count": 97,
      "outputs": [
        {
          "output_type": "stream",
          "name": "stdout",
          "text": [
            "(0, 3) -> 14\n",
            "(1, 1) -> 26\n",
            "(2, 2) -> 22\n",
            "(3, 4) -> 16\n",
            "(4, 0) -> 10\n",
            "\n",
            "Total cost: 88\n"
          ]
        }
      ]
    },
    {
      "cell_type": "code",
      "source": [
        "\"\"\"Maximization Problem\"\"\"\n",
        "\n",
        "import sys\n",
        "\n",
        "matrix = [[6, 12, 20, 12],\n",
        "          [22, 18, 15, 20],\n",
        "          [12, 16, 18, 15],\n",
        "          [16, 8, 12, 20]]          \n",
        "cost_matrix = make_cost_matrix(matrix, lambda cost: sys.maxsize - cost)\n",
        "\n",
        "m = Munkres()\n",
        "indexes = m.compute(cost_matrix)\n",
        "print_matrix(matrix, msg='Lowest cost through this matrix:')\n",
        "total = 0\n",
        "\n",
        "for row, column in indexes:\n",
        "    value = matrix[row][column]\n",
        "    total += value\n",
        "    print ('(%d, %d) -> %d' % (row, column, value))\n",
        "\n",
        "print ('\\nTotal cost: %d' % total)"
      ],
      "metadata": {
        "colab": {
          "base_uri": "https://localhost:8080/"
        },
        "id": "zOx7nJ2GKJ7X",
        "outputId": "3e130ccf-c383-4845-fed3-0ac2f3066c72"
      },
      "execution_count": 98,
      "outputs": [
        {
          "output_type": "stream",
          "name": "stdout",
          "text": [
            "Lowest cost through this matrix:\n",
            "[ 6, 12, 20, 12]\n",
            "[22, 18, 15, 20]\n",
            "[12, 16, 18, 15]\n",
            "[16,  8, 12, 20]\n",
            "(0, 2) -> 20\n",
            "(1, 0) -> 22\n",
            "(2, 1) -> 16\n",
            "(3, 3) -> 20\n",
            "\n",
            "Total cost: 78\n"
          ]
        }
      ]
    }
  ],
  "metadata": {
    "colab": {
      "collapsed_sections": [],
      "name": "munkres.ipynb",
      "provenance": [],
      "authorship_tag": "ABX9TyOILOg/dliG4kfvovPrG+NJ",
      "include_colab_link": true
    },
    "kernelspec": {
      "display_name": "Python 3",
      "name": "python3"
    },
    "language_info": {
      "name": "python"
    }
  },
  "nbformat": 4,
  "nbformat_minor": 0
}