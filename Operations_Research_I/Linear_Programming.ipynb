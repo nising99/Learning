{
  "cells": [
    {
      "cell_type": "markdown",
      "metadata": {
        "id": "view-in-github",
        "colab_type": "text"
      },
      "source": [
        "<a href=\"https://colab.research.google.com/github/nising99/Learning/blob/main/Operations_Research_I/Linear_Programming.ipynb\" target=\"_parent\"><img src=\"https://colab.research.google.com/assets/colab-badge.svg\" alt=\"Open In Colab\"/></a>"
      ]
    },
    {
      "cell_type": "code",
      "execution_count": 17,
      "metadata": {
        "colab": {
          "base_uri": "https://localhost:8080/",
          "height": 283
        },
        "id": "tZmCmUurVjHm",
        "outputId": "c4bb4e92-adda-4e8a-dbaf-83d747572fbb"
      },
      "outputs": [
        {
          "output_type": "display_data",
          "data": {
            "image/png": "[encoded data removed]",
            "text/plain": [
              "<Figure size 432x288 with 1 Axes>"
            ]
          },
          "metadata": {
            "needs_background": "light"
          }
        }
      ],
      "source": [
        "# Plot graph\n",
        "\n",
        "import numpy as np\n",
        "import matplotlib.pyplot as plt\n",
        "%matplotlib inline\n",
        "\n",
        "# Construct lines\n",
        "# x > 0\n",
        "x = np.linspace(start=0, stop=1000)\n",
        "# 4x + 4y <= 1400\n",
        "y1 = (1400-4*x)/4\n",
        "# 6x + 3y <= 1800\n",
        "y2 = (1800-6*x)/3\n",
        "# 2x + 6y <= 1800\n",
        "y3 = (1800-2*x)/6\n",
        "\n",
        "# Make plot\n",
        "plt.plot(x, y1, label=r'$4x+4y\\leq1400$')\n",
        "plt.plot(x, y2, label=r'$6x+3y\\leq1800$')\n",
        "plt.plot(x, y3, label=r'$2x+6y\\leq1800$')\n",
        "plt.xlim((0, 1000))\n",
        "plt.ylim((0, 700))\n",
        "plt.xlabel(r'$x$')\n",
        "plt.ylabel(r'$y$')\n",
        "\n",
        "# Fill feasible region\n",
        "y4 = np.minimum(y1,y2)\n",
        "y5 = np.minimum(y3,y4)\n",
        "plt.fill_between(x, y5, color='grey', alpha=0.5)\n",
        "plt.legend(bbox_to_anchor=(1.05, 1), loc=2, borderaxespad=0.);"
      ]
    },
    {
      "cell_type": "code",
      "source": [
        "# Install package\n",
        "\n",
        "# Install package \"pulp\"\n",
        "import sys\n",
        "!pip install pulp"
      ],
      "metadata": {
        "colab": {
          "base_uri": "https://localhost:8080/"
        },
        "id": "YGdXmlp3u4W0",
        "outputId": "c0cd34c1-d32d-43ac-f5d7-27a8caaf0225"
      },
      "execution_count": 18,
      "outputs": [
        {
          "output_type": "stream",
          "name": "stdout",
          "text": [
            "Requirement already satisfied: pulp in /usr/local/lib/python3.7/dist-packages (2.6.0)\n"
          ]
        }
      ]
    },
    {
      "cell_type": "code",
      "execution_count": 19,
      "metadata": {
        "id": "CC_aYFktykzJ",
        "colab": {
          "base_uri": "https://localhost:8080/"
        },
        "outputId": "db98cd05-f369-4bf0-c409-c65482edd637"
      },
      "outputs": [
        {
          "output_type": "stream",
          "name": "stdout",
          "text": [
            "Problem:\n",
            "MAXIMIZE\n",
            "12*x + 8*y + 0\n",
            "SUBJECT TO\n",
            "_C1: 4 x + 4 y <= 1400\n",
            "\n",
            "_C2: 6 x + 3 y <= 1800\n",
            "\n",
            "_C3: 2 x + 6 y <= 1800\n",
            "\n",
            "VARIABLES\n",
            "x Continuous\n",
            "y Continuous\n",
            "\n",
            "Optimal\n",
            "250.0 100.0 3800.0\n"
          ]
        }
      ],
      "source": [
        "# Find the optimal solution\n",
        "\n",
        "# import the library pulp as p\n",
        "import pulp as p\n",
        "\n",
        "# Create a LP Maximization problem\n",
        "Lp_prob = p.LpProblem('Problem', p.LpMaximize)\n",
        "\n",
        "# Create problem Variables\n",
        "x = p.LpVariable(\"x\", lowBound = 0) # Create a variable x >= 0\n",
        "y = p.LpVariable(\"y\", lowBound = 0) # Create a variable y >= 0\n",
        "\n",
        "# Objective Function\n",
        "Lp_prob += 12*x + 8*y\n",
        "\n",
        "# Constraints:\n",
        "Lp_prob += 4*x + 4*y <= 1400\n",
        "Lp_prob += 6*x + 3*y <= 1800\n",
        "Lp_prob += 2*x + 6*y <= 1800\n",
        "\n",
        "# Display the problem\n",
        "print(Lp_prob)\n",
        "\n",
        "status = Lp_prob.solve() # Solver\n",
        "print(p.LpStatus[status]) # The solution status\n",
        "\n",
        "# Printing the final solution\n",
        "print(p.value(x), p.value(y), p.value(Lp_prob.objective))"
      ]
    }
  ],
  "metadata": {
    "colab": {
      "collapsed_sections": [],
      "name": "Linear Programming.ipynb",
      "provenance": [],
      "authorship_tag": "ABX9TyOPoL0fM9ymMD+TIjMiTBT3",
      "include_colab_link": true
    },
    "kernelspec": {
      "display_name": "Python 3",
      "name": "python3"
    },
    "language_info": {
      "name": "python"
    }
  },
  "nbformat": 4,
  "nbformat_minor": 0
}
