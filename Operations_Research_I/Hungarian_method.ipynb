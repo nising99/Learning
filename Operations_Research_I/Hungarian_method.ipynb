{
  "cells": [
    {
      "cell_type": "markdown",
      "metadata": {
        "id": "view-in-github",
        "colab_type": "text"
      },
      "source": [
        "<a href=\"https://colab.research.google.com/github/nising99/Learning/blob/main/Operations_Research_I/Hungarian_method.ipynb\" target=\"_parent\"><img src=\"https://colab.research.google.com/assets/colab-badge.svg\" alt=\"Open In Colab\"/></a>"
      ]
    },
    {
      "cell_type": "code",
      "source": [
        "!pip install hungarian-algorithm"
      ],
      "metadata": {
        "colab": {
          "base_uri": "https://localhost:8080/"
        },
        "id": "qFQResyutYh3",
        "outputId": "4a6551af-7037-4193-ef47-4459bdf436ef"
      },
      "execution_count": 56,
      "outputs": [
        {
          "output_type": "stream",
          "name": "stdout",
          "text": [
            "Requirement already satisfied: hungarian-algorithm in /usr/local/lib/python3.7/dist-packages (0.1.11)\n"
          ]
        }
      ]
    },
    {
      "cell_type": "code",
      "source": [
        "from hungarian_algorithm import algorithm"
      ],
      "metadata": {
        "id": "N17bEllyA3dy"
      },
      "execution_count": 57,
      "outputs": []
    },
    {
      "cell_type": "code",
      "source": [
        "\"\"\"Minimization Problem\"\"\"\n",
        "\n",
        "costs = {'A': {'J1': 25, 'J2': 34, 'J3': 17, 'J4': 14, 'J5': 29},\n",
        "         'B': {'J1': 19, 'J2': 26, 'J3': 24, 'J4': 21, 'J5': 28},\n",
        "         'C': {'J1': 37, 'J2': 32, 'J3': 22, 'J4': 30, 'J5': 26},\n",
        "         'D': {'J1': 19, 'J2': 17, 'J3': 24, 'J4': 29, 'J5': 16},\n",
        "         'E': {'J1': 10, 'J2': 28, 'J3': 27, 'J4': 22, 'J5': 34}}\n",
        "\n",
        "algorithm.find_matching(costs, matching_type = 'min', return_type = 'list' )"
      ],
      "metadata": {
        "colab": {
          "base_uri": "https://localhost:8080/"
        },
        "id": "UEE0SqFB6ute",
        "outputId": "97c7aed4-881c-420d-8b90-28a1d567e04d"
      },
      "execution_count": 58,
      "outputs": [
        {
          "output_type": "execute_result",
          "data": {
            "text/plain": [
              "[(('B', 'J2'), 26),\n",
              " (('D', 'J5'), 16),\n",
              " (('C', 'J3'), 22),\n",
              " (('A', 'J4'), 14),\n",
              " (('E', 'J1'), 10)]"
            ]
          },
          "metadata": {},
          "execution_count": 58
        }
      ]
    },
    {
      "cell_type": "code",
      "source": [
        "\"\"\"Maximization Problem\"\"\"\n",
        "\n",
        "costs2 = {\"C1\": {\"SA\": 6, \"SB\": 12, \"SC\": 20, \"SD\": 12},\n",
        "          \"C2\": {\"SA\": 22, \"SB\": 18, \"SC\": 15, \"SD\": 20},\n",
        "          \"C3\": {\"SA\": 12, \"SB\": 16, \"SC\": 18, \"SD\": 15},\n",
        "          \"C4\": {\"SA\": 16, \"SB\": 8, \"SC\": 12, \"SD\": 20}}\n",
        "\n",
        "algorithm.find_matching(costs2, matching_type = 'max', return_type = 'list' )"
      ],
      "metadata": {
        "colab": {
          "base_uri": "https://localhost:8080/"
        },
        "id": "dOc9zh6073MB",
        "outputId": "a0008cc4-3575-4535-91b9-818080c1dace"
      },
      "execution_count": 59,
      "outputs": [
        {
          "output_type": "execute_result",
          "data": {
            "text/plain": [
              "[(('C4', 'SD'), 20),\n",
              " (('C2', 'SA'), 22),\n",
              " (('C3', 'SB'), 16),\n",
              " (('C1', 'SC'), 20)]"
            ]
          },
          "metadata": {},
          "execution_count": 59
        }
      ]
    }
  ],
  "metadata": {
    "colab": {
      "collapsed_sections": [],
      "name": "Hungarian method.ipynb",
      "provenance": [],
      "authorship_tag": "ABX9TyPcpip9Hyyi6JxJd68zJVyB",
      "include_colab_link": true
    },
    "kernelspec": {
      "display_name": "Python 3",
      "name": "python3"
    },
    "language_info": {
      "name": "python"
    }
  },
  "nbformat": 4,
  "nbformat_minor": 0
}