{
  "cells": [
    {
      "cell_type": "code",
      "source": [
        "# Understand \"range\" in Python, it is [0,5)\n",
        "\n",
        "list(range(0,5))"
      ],
      "metadata": {
        "id": "aPr40GphkbJh"
      },
      "execution_count": null,
      "outputs": []
    },
    {
      "cell_type": "code",
      "source": [
        "# Use \"symbols\" to create symbols to avoid any name that is already defined in sympy\n",
        "\n",
        "import sympy\n",
        "Lambda, Mu, Rho = sympy.symbols('Lambda, Mu, Rho')\n",
        "\n",
        "# Example\n",
        "c = 2 # number of servers\n",
        "Lambda = 38 # arrival rate\n",
        "Mu = 20 # service rate"
      ],
      "metadata": {
        "id": "fkbunJH6nHLr"
      },
      "execution_count": 34,
      "outputs": []
    },
    {
      "cell_type": "code",
      "source": [
        "# Efficiency, ρ\n",
        "\n",
        "Rho = Lambda/(c*Mu); Rho"
      ],
      "metadata": {
        "id": "ufu7gQkInq_6"
      },
      "execution_count": null,
      "outputs": []
    },
    {
      "cell_type": "code",
      "source": [
        "# Zero customer in the system, P0\n",
        "\n",
        "import math\n",
        "from fractions import Fraction\n",
        "\n",
        "First = 0\n",
        "for i in range (0,c):\n",
        "    First += (c*Rho)**i/math.factorial(i)\n",
        "P0 = 1/((c*Rho)**c/(math.factorial(c)*(1-Rho))+First)\n",
        "print(P0)\n",
        "print(Fraction(P0).limit_denominator())"
      ],
      "metadata": {
        "id": "GoBDFamrojSN"
      },
      "execution_count": null,
      "outputs": []
    },
    {
      "cell_type": "code",
      "source": [
        "# Probability that an arrival has to wait, Pw\n",
        "\n",
        "Pw = (c*Rho)**c/(math.factorial(c)*(1-Rho))*P0\n",
        "print(Pw)\n",
        "print(Fraction(Pw).limit_denominator())"
      ],
      "metadata": {
        "id": "5k-eZ21hpA6t"
      },
      "execution_count": null,
      "outputs": []
    },
    {
      "cell_type": "code",
      "source": [
        "# Probability that there are n customers in the system, Pn\n",
        "\n",
        "n = 4\n",
        "def Pn(P0,c,Rho,n):\n",
        "  if n <= c:\n",
        "        return (((c*Rho)**n/math.factorial(n))*P0)\n",
        "  else:\n",
        "        return (P0*(c**c*Rho**n)/math.factorial(c))\n",
        "\n",
        "print(Pn(P0,c,Rho,n))\n",
        "print(Fraction(Pn(P0,c,Rho,n)).limit_denominator())"
      ],
      "metadata": {
        "id": "S5grEAtwzdbS"
      },
      "execution_count": null,
      "outputs": []
    },
    {
      "cell_type": "code",
      "source": [
        "# Mean number of customers waiting in queue, Lq\n",
        "\n",
        "Lq = (((c*Rho)**c*Rho)/(math.factorial(c)*(1-Rho)**2))*P0\n",
        "print(Lq)\n",
        "print(Fraction(Lq).limit_denominator())"
      ],
      "metadata": {
        "id": "j9DD5mc2z7Dd"
      },
      "execution_count": null,
      "outputs": []
    },
    {
      "cell_type": "code",
      "source": [
        "# Mean time customers spend in queue, Wq\n",
        "\n",
        "Wq = Lq/Lambda\n",
        "print(Wq)\n",
        "print(Fraction(Wq).limit_denominator())\n",
        "\n",
        "# Display the results in minutes\n",
        "Wq = Lq/Lambda*60\n",
        "print(Wq)"
      ],
      "metadata": {
        "id": "k91Pmy6c0fXo"
      },
      "execution_count": null,
      "outputs": []
    },
    {
      "cell_type": "code",
      "source": [
        "# Mean time customers spend in the system, Ws\n",
        "\n",
        "Ws = Wq+1/Mu\n",
        "print(Ws)\n",
        "print(Fraction(Ws).limit_denominator())\n",
        "\n",
        "# Display the results in minutes\n",
        "Ws = Wq+1/Mu*60\n",
        "print(Ws)"
      ],
      "metadata": {
        "id": "0OSOQfSh04Iq"
      },
      "execution_count": null,
      "outputs": []
    },
    {
      "cell_type": "code",
      "source": [
        "# Mean number of customers in system, Ls\n",
        "\n",
        "Ls = Lq+Lambda/Mu\n",
        "print(Ls)\n",
        "print(Fraction(Ls).limit_denominator())"
      ],
      "metadata": {
        "id": "k0INrz_g1Fiv"
      },
      "execution_count": null,
      "outputs": []
    }
  ],
  "metadata": {
    "colab": {
      "collapsed_sections": [],
      "name": "Queuing Theory.ipynb",
      "provenance": [],
      "authorship_tag": "ABX9TyMXlcK7CZsTVHuYVse6TO9b"
    },
    "kernelspec": {
      "display_name": "Python 3",
      "name": "python3"
    },
    "language_info": {
      "name": "python"
    }
  },
  "nbformat": 4,
  "nbformat_minor": 0
}