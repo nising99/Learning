{
  "cells": [
    {
      "cell_type": "markdown",
      "metadata": {
        "id": "view-in-github",
        "colab_type": "text"
      },
      "source": [
        "<a href=\"https://colab.research.google.com/github/nising99/Learning/blob/main/Operations_Research_I/AON_Network.ipynb\" target=\"_parent\"><img src=\"https://colab.research.google.com/assets/colab-badge.svg\" alt=\"Open In Colab\"/></a>"
      ]
    },
    {
      "cell_type": "code",
      "source": [
        "!pip install criticalpath"
      ],
      "metadata": {
        "colab": {
          "base_uri": "https://localhost:8080/"
        },
        "id": "lOkG50X2YFJL",
        "outputId": "2ad07a78-e54f-4c29-9959-7244953ecbfe"
      },
      "execution_count": 65,
      "outputs": [
        {
          "output_type": "stream",
          "name": "stdout",
          "text": [
            "Requirement already satisfied: criticalpath in /usr/local/lib/python3.7/dist-packages (0.1.5)\n"
          ]
        }
      ]
    },
    {
      "cell_type": "code",
      "source": [
        "from criticalpath import Node\n",
        "p = Node('project')\n",
        "a = p.add(Node('A', duration=3))\n",
        "b = p.add(Node('B', duration=3, lag=0))\n",
        "c = p.add(Node('C', duration=4, lag=0))\n",
        "d = p.add(Node('D', duration=6, lag=0))\n",
        "e = p.add(Node('E', duration=5, lag=0))\n",
        "p.link(a, b).link(a, c).link(a, d).link(b, e).link(c, e).link(d, e)\n",
        "p.update_all()\n",
        "p.get_critical_path()\n",
        "display(p.get_critical_path())\n",
        "p.duration\n",
        "display(p.duration)"
      ],
      "metadata": {
        "colab": {
          "base_uri": "https://localhost:8080/",
          "height": 52
        },
        "id": "1omHqLGZYJcl",
        "outputId": "513ba223-dcdc-4026-d80c-62d34a9567cc"
      },
      "execution_count": 66,
      "outputs": [
        {
          "output_type": "display_data",
          "data": {
            "text/plain": [
              "[A, D, E]"
            ]
          },
          "metadata": {}
        },
        {
          "output_type": "display_data",
          "data": {
            "text/plain": [
              "14"
            ]
          },
          "metadata": {}
        }
      ]
    }
  ],
  "metadata": {
    "colab": {
      "collapsed_sections": [],
      "name": "AON Network.ipynb",
      "provenance": [],
      "authorship_tag": "ABX9TyOllhAZg+L7fnmrO5LRsN4I",
      "include_colab_link": true
    },
    "kernelspec": {
      "display_name": "Python 3",
      "name": "python3"
    },
    "language_info": {
      "name": "python"
    }
  },
  "nbformat": 4,
  "nbformat_minor": 0
}